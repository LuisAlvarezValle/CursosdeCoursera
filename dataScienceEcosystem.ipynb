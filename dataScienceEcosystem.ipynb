{
 "cells": [
  {
   "cell_type": "markdown",
   "id": "3770709a-22d3-4533-ba78-d7bf2a94fc1b",
   "metadata": {},
   "source": [
    "# Expresiones Aritméticas"
   ]
  },
  {
   "cell_type": "markdown",
   "id": "7a7229a8-4153-4ee0-8ba0-b758c4d4c251",
   "metadata": {},
   "source": [
    "## Introducción: Este cuaderno presenta ejemplos prácticos de cómo trabajar con datos en Jupyter Notebook."
   ]
  },
  {
   "cell_type": "markdown",
   "id": "09f7f585-b98e-46af-83eb-b80fb3e50628",
   "metadata": {},
   "source": [
    "## Lenguajes de la Ciencia de Datos\n",
    "1. Python\n",
    "2. R\n",
    "3. SQL\n",
    "4. Julia\n",
    "5. Scala"
   ]
  },
  {
   "cell_type": "markdown",
   "id": "46b77d13-8f5d-45a3-a5ad-16e390d7d573",
   "metadata": {},
   "source": [
    "## Bibliotecas de Ciencia de Datos\n",
    "- **Pandas**: Para manipulación y análisis de datos.\n",
    "- **NumPy**: Para operaciones matemáticas y manejo de arrays.\n",
    "- **Matplotlib**: Para visualización de datos.\n",
    "- **Seaborn**: Para visualizaciones estadísticas.\n",
    "- **Scikit-learn**: Para aprendizaje automático."
   ]
  },
  {
   "cell_type": "markdown",
   "id": "7173043a-1410-46d2-8c08-37eaf7dae313",
   "metadata": {},
   "source": [
    "## Herramientas de Ciencia de Datos\n",
    "\n",
    "| Herramienta      | Descripción                           |\n",
    "|------------------|---------------------------------------|\n",
    "| Jupyter Notebook | Entorno interactivo para análisis     |\n",
    "| RStudio          | Entorno para análisis con R           |\n",
    "| TensorFlow       | Librería para aprendizaje automático |\n",
    "| Tableau          | Herramienta para visualización        |"
   ]
  },
  {
   "cell_type": "markdown",
   "id": "585a8ccf-750d-443e-ac69-d9e14d7ba9a2",
   "metadata": {},
   "source": [
    "## Ejemplos de Expresiones Aritméticas\n",
    "- Suma: `5 + 3 = 8`\n",
    "- Resta: `5 - 3 = 2`\n",
    "- Multiplicación: `5 * 3 = 15`\n",
    "- División: `5 / 3 ≈ 1.67`"
   ]
  },
  {
   "cell_type": "code",
   "execution_count": null,
   "id": "0a1f622f-888c-4ed0-9a31-1c84a88a1aa0",
   "metadata": {},
   "outputs": [],
   "source": [
    "# Multiplicar y sumar números\n",
    "numero1 = 5\n",
    "numero2 = 3\n",
    "producto = numero1 * numero2\n",
    "suma = numero1 + numero2\n",
    "producto, suma"
   ]
  },
  {
   "cell_type": "code",
   "execution_count": 3,
   "id": "cdc333e2-bc19-4d4a-a889-1c4a883067a8",
   "metadata": {},
   "outputs": [
    {
     "data": {
      "text/plain": [
       "3.3333333333333335"
      ]
     },
     "execution_count": 3,
     "metadata": {},
     "output_type": "execute_result"
    }
   ],
   "source": [
    "# Convertir minutos en horas\n",
    "minutos = 200\n",
    "horas = minutos / 60\n",
    "horas"
   ]
  },
  {
   "cell_type": "code",
   "execution_count": 5,
   "id": "f9dd5b93-2582-485f-bada-4d28b4ae11ba",
   "metadata": {},
   "outputs": [
    {
     "data": {
      "text/plain": [
       "['Entender los fundamentos de Jupyter',\n",
       " 'Trabajar con Python',\n",
       " 'Realizar análisis de datos']"
      ]
     },
     "execution_count": 5,
     "metadata": {},
     "output_type": "execute_result"
    }
   ],
   "source": [
    "# Listar Objetivos\n",
    "objetivos = [\"Entender los fundamentos de Jupyter\", \"Trabajar con Python\", \"Realizar análisis de datos\"]\n",
    "objetivos"
   ]
  },
  {
   "cell_type": "markdown",
   "id": "58315d07-ac81-4743-b2e8-73e826fff003",
   "metadata": {},
   "source": [
    "## Autor\n",
    "Este cuaderno ha sido creado por [Luis Álvarez Valle]."
   ]
  }
 ],
 "metadata": {
  "kernelspec": {
   "display_name": "Python 3 (ipykernel)",
   "language": "python",
   "name": "python3"
  },
  "language_info": {
   "codemirror_mode": {
    "name": "ipython",
    "version": 3
   },
   "file_extension": ".py",
   "mimetype": "text/x-python",
   "name": "python",
   "nbconvert_exporter": "python",
   "pygments_lexer": "ipython3",
   "version": "3.12.7"
  }
 },
 "nbformat": 4,
 "nbformat_minor": 5
}
